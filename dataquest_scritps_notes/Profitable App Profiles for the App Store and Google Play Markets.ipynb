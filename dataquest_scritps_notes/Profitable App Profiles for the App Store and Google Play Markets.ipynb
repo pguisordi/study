{
 "cells": [
  {
   "cell_type": "markdown",
   "metadata": {},
   "source": [
    "# <center> Profitable App Profiles for the App Store and Google Play Markets </center> #"
   ]
  },
  {
   "cell_type": "markdown",
   "metadata": {},
   "source": [
    "Our  goal in this project is to find mobile app profiles that are profitable for the App Store and Google Play markets. We're working as data analysts for a company that builds Android and iOS mobile apps, and our job is to enable our team of developers to make data-driven decisions with respect to the kind of apps they build.\n",
    "\n",
    "In this case, I am using just Python and built-in libraries to analyse data"
   ]
  },
  {
   "cell_type": "code",
   "execution_count": 1,
   "metadata": {},
   "outputs": [],
   "source": [
    "def explore_data(dataset, start, end, rows_and_columns=False):\n",
    "    dataset_slice= dataset[1:]\n",
    "    for row in dataset_slice:\n",
    "        print(row)\n",
    "        print('\\n')\n",
    "    if rows_and_columns:\n",
    "        print('Number of row:', len(dataset))\n",
    "        print('Number of columns:', len(dataset[0]))\n",
    "\n",
    "def open_dataset(file_name, header=True):\n",
    "    opened_file = open(file_name, encoding='utf8')\n",
    "    from csv import reader\n",
    "    read_file = reader(opened_file)\n",
    "    data = list(read_file)\n",
    "    if header:\n",
    "        header= data[0]\n",
    "        rows= data[1:]\n",
    "        return header, rows\n",
    "    else:\n",
    "        return data\n",
    "\n",
    "def missimg_value(dataset):\n",
    "    counter = -1\n",
    "    for cel in dataset:\n",
    "        counter +=1\n",
    "        column= len(cel)\n",
    "        if column != len(dataset[1]):\n",
    "            print(\"This column:\", counter, 'has missing value')"
   ]
  },
  {
   "cell_type": "code",
   "execution_count": 2,
   "metadata": {},
   "outputs": [],
   "source": [
    "apple_data= open_dataset('AppleStore.csv')[1]\n",
    "apple_header= open_dataset('AppleStore.csv')[0]\n",
    "google_data= open_dataset('googleplaystore.csv')[1]\n",
    "google_header=open_dataset('googleplaystore.csv')[0]"
   ]
  },
  {
   "cell_type": "code",
   "execution_count": 3,
   "metadata": {},
   "outputs": [
    {
     "name": "stdout",
     "output_type": "stream",
     "text": [
      "APPLE DATA\n",
      "data: ['389801252', 'Instagram', '113954816', 'USD', '0.0', '2161558', '1289', '4.5', '4.0', '10.23', '12+', 'Photo & Video', '37', '0', '29', '1']\n",
      "header: ['id', 'track_name', 'size_bytes', 'currency', 'price', 'rating_count_tot', 'rating_count_ver', 'user_rating', 'user_rating_ver', 'ver', 'cont_rating', 'prime_genre', 'sup_devices.num', 'ipadSc_urls.num', 'lang.num', 'vpp_lic']\n",
      "total data 7197\n",
      "total columns 16\n",
      "\n",
      "\n",
      "GOOGLE DATA\n",
      "data: ['Coloring book moana', 'ART_AND_DESIGN', '3.9', '967', '14M', '500,000+', 'Free', '0', 'Everyone', 'Art & Design;Pretend Play', 'January 15, 2018', '2.0.0', '4.0.3 and up']\n",
      "header ['App', 'Category', 'Rating', 'Reviews', 'Size', 'Installs', 'Type', 'Price', 'Content Rating', 'Genres', 'Last Updated', 'Current Ver', 'Android Ver']\n",
      "total data 10841\n",
      "total columns 13\n"
     ]
    }
   ],
   "source": [
    "#Checking data upload:\n",
    "print('APPLE DATA')\n",
    "print ('data:', apple_data[1]) \n",
    "print('header:', apple_header)\n",
    "print('total data', len(apple_data))\n",
    "print('total columns', len(apple_header))\n",
    "print('\\n')\n",
    "print('GOOGLE DATA')\n",
    "print ('data:', google_data[1]) \n",
    "print('header', google_header)\n",
    "print('total data', len(google_data))\n",
    "print('total columns', len(google_header))"
   ]
  },
  {
   "cell_type": "markdown",
   "metadata": {},
   "source": [
    "### Checking Wrong Data ###"
   ]
  },
  {
   "cell_type": "code",
   "execution_count": 4,
   "metadata": {},
   "outputs": [
    {
     "name": "stdout",
     "output_type": "stream",
     "text": [
      "This column: 10472 has missing value\n"
     ]
    }
   ],
   "source": [
    "#checking missing value:\n",
    "missimg_value(google_data)"
   ]
  },
  {
   "cell_type": "code",
   "execution_count": 5,
   "metadata": {},
   "outputs": [
    {
     "data": {
      "text/plain": [
       "['Life Made WI-Fi Touchscreen Photo Frame',\n",
       " '1.9',\n",
       " '19',\n",
       " '3.0M',\n",
       " '1,000+',\n",
       " 'Free',\n",
       " '0',\n",
       " 'Everyone',\n",
       " '',\n",
       " 'February 11, 2018',\n",
       " '1.0.19',\n",
       " '4.0 and up']"
      ]
     },
     "execution_count": 5,
     "metadata": {},
     "output_type": "execute_result"
    }
   ],
   "source": [
    "google_data[10472]"
   ]
  },
  {
   "cell_type": "code",
   "execution_count": 6,
   "metadata": {},
   "outputs": [],
   "source": [
    "#no missing value in apple_data (we do not have return)\n",
    "missimg_value(apple_data)"
   ]
  },
  {
   "cell_type": "code",
   "execution_count": 7,
   "metadata": {},
   "outputs": [
    {
     "data": {
      "text/plain": [
       "10840"
      ]
     },
     "execution_count": 7,
     "metadata": {},
     "output_type": "execute_result"
    }
   ],
   "source": [
    "# deleting row has missing value and checking it\n",
    "del google_data[10472]\n",
    "len(google_data)"
   ]
  },
  {
   "cell_type": "markdown",
   "metadata": {},
   "source": [
    "Also in this row the app rate was wrong, it was 19 and the the rate goes until 5. We could filter the data > of 5 and clean it this way."
   ]
  },
  {
   "cell_type": "markdown",
   "metadata": {},
   "source": [
    "### Removing Duplicate Entries ###"
   ]
  },
  {
   "cell_type": "markdown",
   "metadata": {},
   "source": [
    "We can find a duplicate apps name in Google dataset. It is ok, because the apps was evaluated for more than 1 person. But we need to indentify the duplicates and cut it off our data. We are going to do this in two steps."
   ]
  },
  {
   "cell_type": "markdown",
   "metadata": {},
   "source": [
    "#### First Step #### \n",
    "\n",
    "Identify how many duplicate apps name we have"
   ]
  },
  {
   "cell_type": "code",
   "execution_count": null,
   "metadata": {},
   "outputs": [],
   "source": []
  }
 ],
 "metadata": {
  "kernelspec": {
   "display_name": "Python 3",
   "language": "python",
   "name": "python3"
  },
  "language_info": {
   "codemirror_mode": {
    "name": "ipython",
    "version": 3
   },
   "file_extension": ".py",
   "mimetype": "text/x-python",
   "name": "python",
   "nbconvert_exporter": "python",
   "pygments_lexer": "ipython3",
   "version": "3.8.5"
  }
 },
 "nbformat": 4,
 "nbformat_minor": 4
}
